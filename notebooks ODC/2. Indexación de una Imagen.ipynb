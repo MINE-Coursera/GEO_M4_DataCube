{
 "cells": [
  {
   "cell_type": "markdown",
   "metadata": {},
   "source": [
    "<img src=\"img/banner.png\" alt=\"Deparatemento de Ingeniería de Sistemas y Computación, Universidad de los Andes\">"
   ]
  },
  {
   "cell_type": "markdown",
   "metadata": {},
   "source": [
    "# Indexación de una Imagen - Sentinel 2\n",
    "\n",
    "**Introducción**\n",
    "\n",
    "Una vez se tiene el cubo funcionando y con la adición de por lo menos un producto, el siguiente paso es precisamente ingresar imágenes al cubo. Para esto, se tiene un proceso llamado **indexación**, el cual recibe una imagen, la almacena y georeferencia en la posición que le corresponde según el sistema de coordenadas geográficas que tenemos.\n",
    "\n",
    "La indexación de imágenes consiste en:\n",
    "1. Indicarle al cubo de datos dónde están imágenes de un sensor determinado en nuestro sistema de archivos.\n",
    "2. Entregarle al cubo de datos los **metadatos específicos** de la imagen, para facilitar el proceso de búsqueda.\n",
    "3. Asociar cada imagen de interés al producto de Sentinel 2 que ya ha sido definido con anterioridad.\n",
    "\n",
    "**Objetivo**\n",
    "\n",
    "El objetivo de este notebook es ilustrar el proceso de indexar (hacer que el cubo las conozca) imágenes (de un producto conocido por el cubo) al cubo y verificar luego que la imagen fue correctamente indexada.\n",
    "\n",
    "Este proceso debe realizarse para cada imagen que se quiera ingresar en el cubo.\n",
    "\n",
    "**Proceso para una imagen**\n",
    "\n",
    "1. Descargar imágenes Sentinel 2\n",
    "2. Descomprimir las imágenes\n",
    "3. Generar los metadatos de la imagen\n",
    "4. Adicionar la imagen al índice de imágenes del cubo de datos"
   ]
  },
  {
   "cell_type": "markdown",
   "metadata": {},
   "source": [
    "## 1. Descargar imágenes Sentinel 2\n",
    "\n",
    "___"
   ]
  },
  {
   "cell_type": "markdown",
   "metadata": {},
   "source": [
    "Para trabajar con las imágenes, lo primero es tenerlas disponibles... Los proveedores de imnágenes generalmente proveen un servicio de búsqueda y descarga de las imágenes de interés (áreas, fechas, costos, ...). Las imágenes se estudian y se verifica si son válidas para el análisis requerido y luego finalmente se descargan (previo pago, cuando son imágenes con costo...)\n",
    "\n",
    "Para este curso, vamos a trabajar con imágenes gratuitas provenientes de los sensores Sentinel-2 y ya se han descargado dos de ellas que nos sirven para mostrar las funcionalidades del cubo de datos.\n",
    "\n",
    "Estas imágenes están disponibles [aquí](https://drive.google.com/drive/folders/1eNWlKCcia3FsnhFA7k61m3pnkFp3OiF6?usp=sharing). \n",
    "\n",
    "Para mantener nuestras imágenes organizadas, las pondremos en el siguiente directorio `/vagrant/indexed_storage/S2_MSI_L2A/`, dentro del directorio donde instalamos nuestro cubo (D:\\DataCube\\)"
   ]
  },
  {
   "cell_type": "markdown",
   "metadata": {
    "tags": []
   },
   "source": [
    "Como el cubo está en una máquina virtual Linux, alojada en una máquina física Windows, vamos a hacer la verificación de si tenemos disponibles las imágenes en los dos sistemas operacionales\n",
    "\n",
    "**Verificación en Windows**\n",
    "Navegue al directorio donde instaló el cubo (D:\\DataCube) y ahí al directorio \\vagrant\\indexed_storage\\S2_MSI_L2A\\. Debe encontrar:\n",
    "- Dos archivos .zip con las imágenes descargadas\n",
    "- Un archivo .yaml que contiene la definición del producto Sentinel-2\n",
    "- Un archivo .py, utilizado en el proceso a continuación\n",
    "\n",
    "**Verificación en el cubo**\n",
    "Verifique, ahora en el cubo, que las imágenes que descargó anteriormente estén en el directorio `/vagrant/indexed_storage/S2_MSI_L2A/`. (**Nota** Para esto se utiliza el comando `ls` de Linux)"
   ]
  },
  {
   "cell_type": "code",
   "execution_count": 2,
   "metadata": {},
   "outputs": [
    {
     "name": "stdout",
     "output_type": "stream",
     "text": [
      "S2A_MSIL2A_20210130T151701_N0214_R125_T18NYM_20210130T174015.SAFE\n",
      "S2A_MSIL2A_20210130T151701_N0214_R125_T18NYM_20210130T174015.zip\n",
      "S2B_MSIL2A_20210115T151709_N0214_R125_T18NYM_20210115T174459.zip\n",
      "sen2cor_ard.yaml\n",
      "sen2cor_prepare.py\n"
     ]
    }
   ],
   "source": [
    "!ls /vagrant/indexed_storage/S2_MSI_L2A"
   ]
  },
  {
   "cell_type": "markdown",
   "metadata": {
    "tags": []
   },
   "source": [
    "Debería haber obtenido una salida similar a la que se muestra a continuación, donde se muestran los archivos comprimidos de las imágenes. \n",
    "\n",
    "```sh\n",
    "S2A_MSIL2A_20210130T151701_N0214_R125_T18NYM_20210130T174015.zip\n",
    "S2B_MSIL2A_20210115T151709_N0214_R125_T18NYM_20210115T174459.zip\n",
    "sen2cor_ard.yaml\n",
    "sen2cor_prepare.py\n",
    "```\n",
    "En caso contrario, repita el proceso o busque dónde, en su sistema de archivos (descargas, eventualmente), quedaron las imágenes descargadas y muévalas al sitio indicado"
   ]
  },
  {
   "cell_type": "markdown",
   "metadata": {},
   "source": [
    "## 2. Descomprimir una imagen\n",
    "\n",
    "___"
   ]
  },
  {
   "cell_type": "markdown",
   "metadata": {},
   "source": [
    "Seleccione uno de los archivos `.zip` que ha descargado y configure la variable `image_file_name` con el identificador de imagen como se muestra en el siguiente ejemplo."
   ]
  },
  {
   "cell_type": "code",
   "execution_count": 3,
   "metadata": {},
   "outputs": [],
   "source": [
    "# Set image_file_name with the image identifier (do not use the .zip extension)\n",
    "image_file_name = 'S2A_MSIL2A_20210130T151701_N0214_R125_T18NYM_20210130T174015'"
   ]
  },
  {
   "cell_type": "markdown",
   "metadata": {},
   "source": [
    "**Use el siguiente comando para descomprimir la imagen seleccionada en el directorio `/vagrant/indexed_storage/S2_MSI_L2A/`**"
   ]
  },
  {
   "cell_type": "code",
   "execution_count": 4,
   "metadata": {},
   "outputs": [],
   "source": [
    "image_zip_path = f'/vagrant/indexed_storage/S2_MSI_L2A/{image_file_name}.zip'\n",
    "image_dst_path = '/vagrant/indexed_storage/S2_MSI_L2A/'\n",
    "\n",
    "!unzip -q -o $image_zip_path -d $image_dst_path"
   ]
  },
  {
   "cell_type": "markdown",
   "metadata": {},
   "source": [
    "Use el siguiente comando para validar que la imagen ha sido descomprimida. La imagen descomprimida debe en una carpeta con sufijo `.SAFE`, que va precedido por el identificador de la imagen."
   ]
  },
  {
   "cell_type": "code",
   "execution_count": 5,
   "metadata": {},
   "outputs": [
    {
     "name": "stdout",
     "output_type": "stream",
     "text": [
      "S2A_MSIL2A_20210130T151701_N0214_R125_T18NYM_20210130T174015.SAFE\n",
      "S2A_MSIL2A_20210130T151701_N0214_R125_T18NYM_20210130T174015.zip\n",
      "S2B_MSIL2A_20210115T151709_N0214_R125_T18NYM_20210115T174459.zip\n",
      "sen2cor_ard.yaml\n",
      "sen2cor_prepare.py\n"
     ]
    }
   ],
   "source": [
    "!ls /vagrant/indexed_storage/S2_MSI_L2A"
   ]
  },
  {
   "cell_type": "markdown",
   "metadata": {},
   "source": [
    "## 3. Generar los metadatos de una imagen\n",
    "\n",
    "___"
   ]
  },
  {
   "cell_type": "markdown",
   "metadata": {},
   "source": [
    "Las imágenes que descargamos de diferentes plataformas como Copernicus o USGS Earth Explorer tienen archivos de metadatos específicos de las imágenes descargadas, pero estos metadatos no fueron generados para ser usados por herramientas como el cubo de datos. Es por esto que se requiere generar, para cada imagen, un archivo de metadatos adicional para que la imagen pueda ser interpretada por el cubo de datos. \n",
    "\n",
    "La generación de estos metadatos adicionales se realiza mediante **scripts de generación o preparación de metadatos**, generados por la comunidad y el equipo de desarrollo del cubo de datos. Es claro que hay un script de preparacion para cada sensor remoto.\n",
    "\n",
    "Para este ejercicio, usaremos el script de generación de metadatos para imágenes de Sentinel 2, que se encuentra disponible en el  ambiente de desarrollo del cubo de datos, `/vagrant/indexed_storage/S2_MSI_L2A/sen2cor_prepare.py`(tomado de [aquí](https://github.com/dfnino10/ODC_Sentinel)).\n",
    "\n",
    "Para generar los metadatos de la imágen descomprimida anteriormente, ejecute el siguiente comando:"
   ]
  },
  {
   "cell_type": "code",
   "execution_count": 6,
   "metadata": {},
   "outputs": [
    {
     "name": "stdout",
     "output_type": "stream",
     "text": [
      "2021-07-23 01:36:56,140 INFO Processing /vagrant/indexed_storage/S2_MSI_L2A/S2A_MSIL2A_20210130T151701_N0214_R125_T18NYM_20210130T174015.SAFE/MTD_MSIL2A.xml\n",
      "Level-2A S2MSI2A 2021-01-30T17:40:15.000000Z\n",
      "2021-07-23 01:36:56,309 INFO Writing 1 dataset(s) into /vagrant/indexed_storage/S2_MSI_L2A/S2A_MSIL2A_20210130T151701_N0214_R125_T18NYM_20210130T174015.SAFE/S2A_MSIL2A_20210130T151701_N0214_R125_T18NYM_20210130T174015.SAFE.yaml\n"
     ]
    }
   ],
   "source": [
    "# Path to the metadata generation script for sentinel 2 images\n",
    "metadata_prepare_script_file_path = '/vagrant/indexed_storage/S2_MSI_L2A/sen2cor_prepare.py'\n",
    "# Path to the unziped image\n",
    "unziped_image_path = f'/vagrant/indexed_storage/S2_MSI_L2A/{image_file_name}.SAFE'\n",
    "metadata_dst_file_path = f'/vagrant/indexed_storage/S2_MSI_L2A/{image_file_name}.SAFE'\n",
    "\n",
    "# Execute the metadata generation script\n",
    "!python3 $metadata_prepare_script_file_path  $unziped_image_path --output $metadata_dst_file_path"
   ]
  },
  {
   "cell_type": "markdown",
   "metadata": {},
   "source": [
    "Compruebe, con el siguiente comando, si el archivo de metadatos **.SAFE.yaml** se generó para la imagen descomprimida"
   ]
  },
  {
   "cell_type": "code",
   "execution_count": 7,
   "metadata": {},
   "outputs": [
    {
     "name": "stdout",
     "output_type": "stream",
     "text": [
      "total 172\n",
      "drwxrwxrwx 1 1000 1000     0 Jan 30 19:57 AUX_DATA\n",
      "drwxrwxrwx 1 1000 1000     0 Jan 30 19:56 DATASTRIP\n",
      "drwxrwxrwx 1 1000 1000     0 Jan 30 19:56 GRANULE\n",
      "drwxrwxrwx 1 1000 1000  4096 Jul 23 01:36 HTML\n",
      "-rwxrwxrwx 1 1000 1000 18601 Jan 30 19:57 INSPIRE.xml\n",
      "-rwxrwxrwx 1 1000 1000 53047 Jan 30 19:57 MTD_MSIL2A.xml\n",
      "-rwxrwxrwx 1 1000 1000  3776 Jul 23 01:36 S2A_MSIL2A_20210130T151701_N0214_R125_T18NYM_20210130T174015.SAFE.yaml\n",
      "-rwxrwxrwx 1 1000 1000 91675 Jan 30 19:58 manifest.safe\n",
      "drwxrwxrwx 1 1000 1000     0 Jul 23 01:36 rep_info\n"
     ]
    }
   ],
   "source": [
    "!ls -l $unziped_image_path"
   ]
  },
  {
   "cell_type": "markdown",
   "metadata": {},
   "source": [
    "Para ver los metadatos de la imagen en proceso se usa el comando `cat`. Note que los metadatos contienen información especifica de cada imagen como la fecha en que fué capturada `datetime: '2021-01-15T17:44:59.000000Z'`, la ruta donde se encuentran las imágenes de las bandas en el sistema de archivos, entre otros. Finalmente, en los metadatos generados el script indica de forma explicita a qué producto del cubo de datos será asociada la imagen.\n",
    "\n",
    "```sh\n",
    "product:\n",
    "  name: s2_sen2cor_ard_granule_EO3\n",
    "```\n",
    "\n",
    "Por supuesto, un producto con el identificador `s2_sen2cor_ard_granule_EO3` debe haber sido adicionado con anterioridad."
   ]
  },
  {
   "cell_type": "code",
   "execution_count": 8,
   "metadata": {},
   "outputs": [
    {
     "name": "stdout",
     "output_type": "stream",
     "text": [
      "id: fecb258c-968a-417e-8685-845f919db032\n",
      "$schema: https://schemas.opendatacube.org/dataset\n",
      "product:\n",
      "  name: s2_sen2cor_ard_granule_EO3\n",
      "crs: EPSG:32618\n",
      "grids:\n",
      "  default:\n",
      "    shape:\n",
      "    - 5490\n",
      "    - 5490\n",
      "    transform:\n",
      "    - 20.0\n",
      "    - 0.0\n",
      "    - 699960.0\n",
      "    - 0.0\n",
      "    - -20.0\n",
      "    - 700020.0\n",
      "    - 0.0\n",
      "    - 0.0\n",
      "    - 1.0\n",
      "  10m_res:\n",
      "    shape:\n",
      "    - 10980\n",
      "    - 10980\n",
      "    transform:\n",
      "    - 10.0\n",
      "    - 0.0\n",
      "    - 699960.0\n",
      "    - 0.0\n",
      "    - -10.0\n",
      "    - 700020.0\n",
      "    - 0.0\n",
      "    - 0.0\n",
      "    - 1.0\n",
      "  60m_res:\n",
      "    shape:\n",
      "    - 1830\n",
      "    - 1830\n",
      "    transform:\n",
      "    - 60.0\n",
      "    - 0.0\n",
      "    - 699960.0\n",
      "    - 0.0\n",
      "    - -60.0\n",
      "    - 700020.0\n",
      "    - 0.0\n",
      "    - 0.0\n",
      "    - 1.0\n",
      "measurements:\n",
      "  B01_60m:\n",
      "    grid: 60m_res\n",
      "    path: /vagrant/indexed_storage/S2_MSI_L2A/S2A_MSIL2A_20210130T151701_N0214_R125_T18NYM_20210130T174015.SAFE/GRANULE/L2A_T18NYM_A029294_20210130T151704/IMG_DATA/R60m/T18NYM_20210130T151701_B01_60m.jp2\n",
      "  B02_10m:\n",
      "    grid: 10m_res\n",
      "    path: /vagrant/indexed_storage/S2_MSI_L2A/S2A_MSIL2A_20210130T151701_N0214_R125_T18NYM_20210130T174015.SAFE/GRANULE/L2A_T18NYM_A029294_20210130T151704/IMG_DATA/R10m/T18NYM_20210130T151701_B02_10m.jp2\n",
      "  B03_10m:\n",
      "    grid: 10m_res\n",
      "    path: /vagrant/indexed_storage/S2_MSI_L2A/S2A_MSIL2A_20210130T151701_N0214_R125_T18NYM_20210130T174015.SAFE/GRANULE/L2A_T18NYM_A029294_20210130T151704/IMG_DATA/R10m/T18NYM_20210130T151701_B03_10m.jp2\n",
      "  B04_10m:\n",
      "    grid: 10m_res\n",
      "    path: /vagrant/indexed_storage/S2_MSI_L2A/S2A_MSIL2A_20210130T151701_N0214_R125_T18NYM_20210130T174015.SAFE/GRANULE/L2A_T18NYM_A029294_20210130T151704/IMG_DATA/R10m/T18NYM_20210130T151701_B04_10m.jp2\n",
      "  B05_20m:\n",
      "    path: /vagrant/indexed_storage/S2_MSI_L2A/S2A_MSIL2A_20210130T151701_N0214_R125_T18NYM_20210130T174015.SAFE/GRANULE/L2A_T18NYM_A029294_20210130T151704/IMG_DATA/R20m/T18NYM_20210130T151701_B05_20m.jp2\n",
      "  B06_20m:\n",
      "    path: /vagrant/indexed_storage/S2_MSI_L2A/S2A_MSIL2A_20210130T151701_N0214_R125_T18NYM_20210130T174015.SAFE/GRANULE/L2A_T18NYM_A029294_20210130T151704/IMG_DATA/R20m/T18NYM_20210130T151701_B06_20m.jp2\n",
      "  B07_20m:\n",
      "    path: /vagrant/indexed_storage/S2_MSI_L2A/S2A_MSIL2A_20210130T151701_N0214_R125_T18NYM_20210130T174015.SAFE/GRANULE/L2A_T18NYM_A029294_20210130T151704/IMG_DATA/R20m/T18NYM_20210130T151701_B07_20m.jp2\n",
      "  B08_10m:\n",
      "    grid: 10m_res\n",
      "    path: /vagrant/indexed_storage/S2_MSI_L2A/S2A_MSIL2A_20210130T151701_N0214_R125_T18NYM_20210130T174015.SAFE/GRANULE/L2A_T18NYM_A029294_20210130T151704/IMG_DATA/R10m/T18NYM_20210130T151701_B08_10m.jp2\n",
      "  B8A_20m:\n",
      "    path: /vagrant/indexed_storage/S2_MSI_L2A/S2A_MSIL2A_20210130T151701_N0214_R125_T18NYM_20210130T174015.SAFE/GRANULE/L2A_T18NYM_A029294_20210130T151704/IMG_DATA/R20m/T18NYM_20210130T151701_B8A_20m.jp2\n",
      "  B09_60m:\n",
      "    grid: 60m_res\n",
      "    path: /vagrant/indexed_storage/S2_MSI_L2A/S2A_MSIL2A_20210130T151701_N0214_R125_T18NYM_20210130T174015.SAFE/GRANULE/L2A_T18NYM_A029294_20210130T151704/IMG_DATA/R60m/T18NYM_20210130T151701_B09_60m.jp2\n",
      "  B11_20m:\n",
      "    path: /vagrant/indexed_storage/S2_MSI_L2A/S2A_MSIL2A_20210130T151701_N0214_R125_T18NYM_20210130T174015.SAFE/GRANULE/L2A_T18NYM_A029294_20210130T151704/IMG_DATA/R20m/T18NYM_20210130T151701_B11_20m.jp2\n",
      "  B12_20m:\n",
      "    path: /vagrant/indexed_storage/S2_MSI_L2A/S2A_MSIL2A_20210130T151701_N0214_R125_T18NYM_20210130T174015.SAFE/GRANULE/L2A_T18NYM_A029294_20210130T151704/IMG_DATA/R20m/T18NYM_20210130T151701_B12_20m.jp2\n",
      "  SCL_20m:\n",
      "    path: /vagrant/indexed_storage/S2_MSI_L2A/S2A_MSIL2A_20210130T151701_N0214_R125_T18NYM_20210130T174015.SAFE/GRANULE/L2A_T18NYM_A029294_20210130T151704/IMG_DATA/R20m/T18NYM_20210130T151701_SCL_20m.jp2\n",
      "properties:\n",
      "  eo:platform: Sentinel-2A\n",
      "  eo:instrument: MSI\n",
      "  eo:product_type: S2MSI2A\n",
      "  datetime: '2021-01-30T17:40:15.000000Z'\n",
      "  odc:file_format: JPEG2000\n",
      "  dea:dataset_maturity: final\n",
      "  odc:product_family: ard\n"
     ]
    }
   ],
   "source": [
    "# Path to the image generated metadata\n",
    "image_metadata_file_path = f'/vagrant/indexed_storage/S2_MSI_L2A/{image_file_name}.SAFE/{image_file_name}.SAFE.yaml'\n",
    "\n",
    "!cat $image_metadata_file_path"
   ]
  },
  {
   "cell_type": "markdown",
   "metadata": {},
   "source": [
    "## 4. Adicionar una imagen al índice de imágenes del cubo de datos\n",
    "\n",
    "___"
   ]
  },
  {
   "cell_type": "markdown",
   "metadata": {},
   "source": [
    "En este punto la imagen que hemos descomprimido y a la cual hemos generado los metadatos está lista para se indexada en el cubo de datos. Para indexar una imagen en el cubo de datos lo único que debemos hacer es entregar al cubo de datos el archivo de metadatos de la imagen, que fue generado en el paso anterior.\n",
    "\n",
    "El comando para indexar una imagen en el cubo de datos tiene el siguiente formato:\n",
    "\n",
    "`datacube dataset add <image_metadata_file>.yaml`\n",
    "\n",
    "El comando anterior se encarga de tomar los metadatos específicos de la imagen e ingresarlos en la base de datos del cubo de datos. De esta forma, se facilita la búsqueda de imágenes en el cubo de datos.\n",
    "\n",
    "Ejecute el comando a continuación para indexar la imagen en el cubo de datos."
   ]
  },
  {
   "cell_type": "code",
   "execution_count": 9,
   "metadata": {},
   "outputs": [],
   "source": [
    "# Utilizando la variable image_metadata_file_path definida en el paso 3\n",
    "\n",
    "!datacube dataset add $image_metadata_file_path"
   ]
  },
  {
   "cell_type": "markdown",
   "metadata": {},
   "source": [
    "Use el siguiente comando para comprobar que se ha indexado la imagen correctamente. Note que el cubo de datos muestra los metadatos obtenidos de la imagen. "
   ]
  },
  {
   "cell_type": "code",
   "execution_count": 10,
   "metadata": {},
   "outputs": [
    {
     "name": "stdout",
     "output_type": "stream",
     "text": [
      "id: fecb258c-968a-417e-8685-845f919db032\n",
      "product: s2_sen2cor_ard_granule_EO3\n",
      "status: active\n",
      "locations:\n",
      "- file:///vagrant/indexed_storage/S2_MSI_L2A/S2A_MSIL2A_20210130T151701_N0214_R125_T18NYM_20210130T174015.SAFE/S2A_MSIL2A_20210130T151701_N0214_R125_T18NYM_20210130T174015.SAFE.yaml\n",
      "fields:\n",
      "    creation_time: null\n",
      "    dataset_maturity: final\n",
      "    format: JPEG2000\n",
      "    instrument: MSI\n",
      "    label: null\n",
      "    lat: {begin: 5.3333943012481395, end: 6.329895366800824}\n",
      "    lon: {begin: -73.19553295981784, end: -72.20042267994468}\n",
      "    platform: Sentinel-2A\n",
      "    product_family: ard\n",
      "    region_code: null\n",
      "    time: {begin: '2021-01-30T17:40:15+00:00', end: '2021-01-30T17:40:15+00:00'}\n"
     ]
    }
   ],
   "source": [
    "!datacube dataset search"
   ]
  },
  {
   "cell_type": "markdown",
   "metadata": {},
   "source": [
    "## Repita los pasos 2 y con la otra imagen descargada.\n",
    "Es cambiar el valor de la variable y volver a ejecutar los pasos 2 y 3...\n",
    "\n",
    "**No la indexe todavía. En los primeros ejercicios con el cubo se trabaja con una sola imagen, pues la idea es entender el cubo, cómo representa la información y cómo se puede trabajar con una de ellas.\n",
    "En su momento, le indicaremos que indexe la segunda imagen**"
   ]
  },
  {
   "cell_type": "markdown",
   "metadata": {},
   "source": [
    "### References\n",
    "\n",
    "1. [Indexing Data](https://datacube-core.readthedocs.io/en/latest/ops/indexing.html#indexing-data)"
   ]
  }
 ],
 "metadata": {
  "kernelspec": {
   "display_name": "Python 3",
   "language": "python",
   "name": "python3"
  },
  "language_info": {
   "codemirror_mode": {
    "name": "ipython",
    "version": 3
   },
   "file_extension": ".py",
   "mimetype": "text/x-python",
   "name": "python",
   "nbconvert_exporter": "python",
   "pygments_lexer": "ipython3",
   "version": "3.8.5"
  }
 },
 "nbformat": 4,
 "nbformat_minor": 4
}
