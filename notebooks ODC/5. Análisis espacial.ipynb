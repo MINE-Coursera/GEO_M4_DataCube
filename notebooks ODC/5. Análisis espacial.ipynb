{
 "cells": [
  {
   "cell_type": "markdown",
   "metadata": {},
   "source": [
    "<img src=\"https://raw.githubusercontent.com/DonAurelio/open-datacube-bac-training/main/docs/banner.png\" alt=\"Deparatemento de Ingeniería de Sistemas y Computación, Universidad de los Andes\">"
   ]
  },
  {
   "cell_type": "markdown",
   "metadata": {},
   "source": [
    "#  Análisis espacial - Aplicación de algoritmos para el análisis de coberturas\n",
    "\n",
    "**Introducción**\n",
    "\n",
    "La teledetección es el proceso de **detectar** y **monitorear** las características físicas, químicas y biológicas de la cobertura terrestre. Estas caracteristicas pueden ser estudiadas mediante el análisis de la radiación reflejada y emitida a distancia por los diferentes tipos de coberturas que reposan sobre la superficie terrestre. \n",
    "\n",
    "En los notebook 3 y 4 se utilizó la estrategia de **visualización** en `verdadero color` y en `falso color`, que son un primer paso de análisis y donde el análisis es realizado en forma visual por el analista.\n",
    "\n",
    "Sin embargo hay otras muchas posibilidades de análisis que involucran operaciones matemáticas con las bandas de la imagem. En este notebook se muestran algunos algoritmos (índices de vegetación) empleados de forma recurrente en la literatura para el estudio de cultivos. Así mismo se muestran algoritmos que permiten mitigar el efecto de las nubes que producen valores inválidos para el análisis de un cultivo. \n",
    "\n",
    "Luego de realizar un análisis de las cobertura terrestre con estos índices, se exportan los resultados de los análisis en formatos conocidos para su exploración en herramientas GIS como ArcGIS o Q-GIS\n",
    "\n",
    "**Objetivo**\n",
    "\n",
    "Familiarizarse con el proceso de análisis de imágenes satelitales usando el cubo de datos.\n",
    "\n",
    "**Precondiciones - Actividad previa**\n",
    "\n",
    "1. Tener dos imágenes en el cubo - Ver notebooks 1 y 2\n",
    "2. Haber realizado las actividades de los notebooks 3 y 4\n",
    "\n",
    "**Contenido**\n",
    "\n",
    "1. Importar librerías\n",
    "2. Definición del área de estudio y consulta de las imágenes\n",
    "3. Cálculo de índices de vegetación\n",
    "4. Guardar resultados de análisis en formato netcdf\n",
    "5. Guardar resultados de análisis en formato geotiff"
   ]
  },
  {
   "cell_type": "markdown",
   "metadata": {},
   "source": [
    "## 1. Importar librerías\n",
    "___\n",
    "En esta sección se importan las librerías cuya funicionalidades particulares son requeridas."
   ]
  },
  {
   "cell_type": "code",
   "execution_count": null,
   "metadata": {},
   "outputs": [],
   "source": [
    "# las funcionalidades del open data cube son accedidas \n",
    "# por medio de la librería datacube\n",
    "import datacube\n",
    "\n",
    "# Manipulación de datasets\n",
    "import xarray as xr\n",
    "\n",
    "# Manipulación de datos raster\n",
    "import rasterio\n",
    "\n",
    "# Librería usada para la carga de polígonos\n",
    "import geopandas as gpd\n",
    "\n",
    "# Librería usada para visualización de datos\n",
    "import matplotlib as mpl\n",
    "import matplotlib.pyplot as plt\n",
    "\n",
    "# Desactiva los warnings en el notebook\n",
    "import warnings\n",
    "warnings.filterwarnings('ignore')\n",
    "warnings.simplefilter('ignore')"
   ]
  },
  {
   "cell_type": "markdown",
   "metadata": {
    "tags": []
   },
   "source": [
    "## 2. Definición del área de estudio y consulta de las imágenes\n",
    "___\n",
    "Para usar el cubo de datos y las imágenes que contiene, lo primero que hay que hacer es contarle al cubo cuál es el área en la que se quiere trabajar, expresada como un rectángulo que define sus límites.\n",
    "\n",
    "En este notebook, esta área de estudio se especifica a partir de un punto.\n",
    "\n",
    "Los coordenadas del punto a seleccionar pueden ser obtenidas a través de herramientas GIS como Google Maps. Este punto debe estar comprendido en el área que desea estudiar. El punto definido se emplea para la generación de un cuadrado que finalmente se usa para consultar el área de estudio. La variable `buffer` permite ampliar o disminuir las dimensiones de dicho cuadrado. Lo anterior es equivalente a disminuir o ampliar el área de estudio a consultar en el open data cube.\n",
    "\n",
    "<img src=\"https://raw.githubusercontent.com/DonAurelio/open-datacube-bac-training/main/docs/latlong_buffer.png\" alt=\"Definición área de estudio\" width=\"20%\">"
   ]
  },
  {
   "cell_type": "code",
   "execution_count": null,
   "metadata": {},
   "outputs": [],
   "source": [
    "# Definición de las coordenadas del punto central del área de estudio\n",
    "central_lat = 5.547964746532565\n",
    "central_lon =  -72.9284962779124\n",
    "\n",
    "# Aumento del aŕea del cuadrado para \"EPSG:4326\" (WGS84 - Unidades en grados)\n",
    "#  0.1 grados que corresponden a 11.1 kilómetros alrededor del punto de interés\n",
    "buffer = 0.1\n",
    "\n",
    "# Cálculo del cuadro delimitador (bounding box) para el área de estudio\n",
    "study_area_lat = (central_lat - buffer, central_lat + buffer)\n",
    "study_area_lon = (central_lon - buffer, central_lon + buffer)\n",
    "\n",
    "print(f'    latitude={study_area_lat},')\n",
    "print(f'    longitude={study_area_lon},')"
   ]
  },
  {
   "cell_type": "markdown",
   "metadata": {},
   "source": [
    "**Ahora recuperamos las imágenes que tenga el cubo y que contienen el área de interés**"
   ]
  },
  {
   "cell_type": "code",
   "execution_count": null,
   "metadata": {},
   "outputs": [],
   "source": [
    "dc = datacube.Datacube(app=\"MOOC GEO\")\n",
    "\n",
    "# Especificación de los parámetros de búsqueda\n",
    "dataset = dc.load(\n",
    "    product=\"s2_sen2cor_ard_granule_EO3\",\n",
    "    latitude=(5.447964746532565, 5.647964746532565),\n",
    "    longitude=(-73.0284962779124, -72.82849627791241),\n",
    "    time=('2021-01-01', '2021-02-01'),\n",
    "    measurements=[\"red\",\"blue\",\"green\",\"nir\",\"swir1\",\"swir2\",\"scl\"],\n",
    "    crs=\"EPSG:4326\",\n",
    "    output_crs=\"EPSG:4326\",\n",
    "    resolution=(-0.00008983111,0.00008971023)\n",
    ")\n",
    "\n",
    "# Ver el resultado de la consulta, en el formato del cubo\n",
    "dataset"
   ]
  },
  {
   "cell_type": "markdown",
   "metadata": {},
   "source": [
    "Al igual que en los notebooks anteriores, también queremos ver las imágenes recuperadas"
   ]
  },
  {
   "cell_type": "code",
   "execution_count": null,
   "metadata": {},
   "outputs": [],
   "source": [
    "rgb = dataset[[\"red\",\"green\",\"blue\"]].to_array(dim='color')\n",
    "rgb = rgb.transpose(*(rgb.dims[1:]+rgb.dims[:1]))  # make 'color' the last dimension\n",
    "img = rgb.plot.imshow(col='time',col_wrap=4,add_colorbar=False,vmin=0,vmax=1200)"
   ]
  },
  {
   "cell_type": "markdown",
   "metadata": {},
   "source": [
    "Recordemos que también podemos visualizar una sola imagen, de alguno de los periodos de tiempo recuperados.\n",
    "\n",
    "En el notebook 3, lo hicimos escogiendo la primera (y única) imagen que teníamos, con la instrucción:\n",
    "\n",
    "`img = rgb.plot.imshow(add_colorbar=False,vmin=0,vmax=1500, size=10, aspect=1)`\n",
    "\n",
    "En este notebook, mostramos otra alternativa, mediante la utilización de la variable `time_index`. Y también mostramos otra alternativa para determinar el tamaño de la imagen resultado, mediante el parámetro `figsize`.\n",
    "\n",
    "**NOTA:** Entre más grande es la imagen, más tiempo de procesamiento se requiere para su visualización."
   ]
  },
  {
   "cell_type": "code",
   "execution_count": null,
   "metadata": {},
   "outputs": [],
   "source": [
    "time_index = 0\n",
    "\n",
    "rgb = dataset[[\"red\",\"green\",\"blue\"]].isel(time=time_index).to_array(dim='color')\n",
    "rgb = rgb.transpose(*(rgb.dims[1:]+rgb.dims[:1]))  # make 'color' the last dimension\n",
    "img = rgb.plot.imshow(add_colorbar=True, vmin=0,vmax=1200,figsize=(5,5))"
   ]
  },
  {
   "cell_type": "markdown",
   "metadata": {},
   "source": [
    "## 3. Cálculo de índices de vegetación\n",
    "___\n",
    "Los índices de vegetación son el resultado de operar aritméticamente los componentes espectrales (bandas) de una imagen satelital, con el objetivo de realzar las propiedades fenológicas de la vegetación. \n",
    "\n",
    "Ejemplos  de  índices  de vegetación más comunmente empleados son: \n",
    "- **Normalized Difference Vegetation Index (NDVI)**\n",
    "- **Enhanced Vegetation Index (EVI)**\n",
    "- **Ratio Vegetation Index (RVI)**\n",
    "- **Soil Adjusted Vegetation Index (SAVI)**. \n",
    "\n",
    "Puede encontrar más información sobre índices de vegetación \n",
    "- [Productos espectrales del ODC](https://www.opendatacube.org/dcal-spectral-products)\n",
    "- [Base de datos de los índices de vegetación](https://www.indexdatabase.de/)"
   ]
  },
  {
   "cell_type": "markdown",
   "metadata": {},
   "source": [
    "### Normalized Difference Vegetation Index (NDVI)\n",
    "\n",
    "El  NDVI  es  empleado  para calificar  el  verdor  de  la vegetación  y  es  útil para  evaluar su densidad y salud. Para este índice los valores cercanos a `1` corresponden a una vegetación densa, como la  encontrada  en  bosques o  cultivos  en  su  etapa  de  crecimiento  máximo, mientras que  los valores  cercanos  a  `0` representan  zonas  cuya  vegetación  es  escasa. Finalmente, valores negativos cercanos a `-1` representan indicios de agua.\n",
    "\n",
    "Una presentación clara y concisa del NVDI la encontramos [aquí](https://eos.com/es/blog/ndvi-preguntas-frecuentes/)\n",
    "\n",
    "La ecuación que define este índice es:\n",
    "\n",
    "`NDVI = (NIR - RED) / (NIR + RED)`"
   ]
  },
  {
   "cell_type": "markdown",
   "metadata": {},
   "source": [
    "**Cálculo del NDVI**\n",
    "\n",
    "El open data cube permite operar la información espectral de una imágen de forma sencilla, de manera que el cálculo del NDVI se reduce a replicar la formula mostrada anteriormente. \n",
    "\n",
    "Observe que el resultado es agregado al dataset como una variable de datos nueva. Es decir que el índice fue calculado sobre todas las imágenes contenidas en el dataset."
   ]
  },
  {
   "cell_type": "code",
   "execution_count": null,
   "metadata": {},
   "outputs": [],
   "source": [
    "dataset['ndvi'] = (dataset.nir - dataset.red) / (dataset.nir + dataset.red)\n",
    "dataset"
   ]
  },
  {
   "cell_type": "markdown",
   "metadata": {},
   "source": [
    "Y claro, queremos visualizar la imagen resultado del NDVI calculado. Lo hacemos empleando la función `plot` simple."
   ]
  },
  {
   "cell_type": "code",
   "execution_count": null,
   "metadata": {},
   "outputs": [],
   "source": [
    "dataset.ndvi.plot(col='time',col_wrap=4)"
   ]
  },
  {
   "cell_type": "markdown",
   "metadata": {},
   "source": [
    "**NOTA:** \n",
    "La imágenes anteriores no parecen reflejar los resultados esperados. En primera instancia, la barra de colores muestra que el ndvi calculado varia entre `0` y `60000`, cuando, según la literatura, el cálculo del NDVI entrega valores que varían entre `-1.0` y `1.0`. Por otro lado, la imagen se torna de un único color.\n",
    "\n",
    "Es necesario mirar los resultados del cálculo de NDVI con más detalle:"
   ]
  },
  {
   "cell_type": "code",
   "execution_count": null,
   "metadata": {},
   "outputs": [],
   "source": [
    "dataset.ndvi.plot()"
   ]
  },
  {
   "cell_type": "markdown",
   "metadata": {},
   "source": [
    "El histograma muestra que la gran mayoria de valores están entre 0 y 7000, aproximadamente, pero también que hay algunos valores del orden de 60000 !!. Esto nos lo confirman los datos numéricos, donde precisamente el último valor calculado es 65535!!\n",
    "\n",
    "La explicación de esto no es simple, aunque es bien conocida:\n",
    "\n",
    "Cuando se trata con imágenes satelitales es común encontrar valores de píxeles inválidos\n",
    "- Pixeles con valores que están por fuera del rango válido de valores de las bandas\n",
    "- Píxeles que no tienen información\n",
    "- Píxeles que presentan nubes poco densas que no son visibles a simple vista o por el nivel de detalle de la imagen se hace imperceptible, entre otros casos. \n",
    "\n",
    "Dado lo anterior, es prudente y necesario remover estos píxeles del análisis original para evitar estos errores y su propagación en los análisis que siguen."
   ]
  },
  {
   "cell_type": "markdown",
   "metadata": {},
   "source": [
    "**Enmascaramiento de píxeles inválidos**\n",
    "\n",
    "El enmascarado es el proceso de eliminar o remover información de píxeles no validos de la imágen para evitar propagar el error al hacer cálculos con estos valores. Una forma de enmascarar la imágen es usando los rangos de valores conocidos del NDVI como criterio de aceptación o eliminación de píxeles."
   ]
  },
  {
   "cell_type": "code",
   "execution_count": null,
   "metadata": {},
   "outputs": [],
   "source": [
    "# Generación de máscara que establece que deseamos dejar aquellos píxeles que presentan un ndvi mayor que -1.0\n",
    "mask_lower = dataset.ndvi >= -1.0\n",
    "\n",
    "# Generación de máscara que establece que deseamos dejar aquellos píxeles que son menores que 1.0\n",
    "mask_higher = dataset.ndvi <= 1.0\n",
    "\n",
    "# Aplicamos ambas máscaras sobre todo el dataset\n",
    "masked_dataset = dataset.where(mask_lower & mask_higher)\n",
    "\n",
    "# Imagen del NDVI después de haber removido los valores inválidos para el índice\n",
    "masked_dataset.ndvi.plot(col='time',col_wrap=4)"
   ]
  },
  {
   "cell_type": "markdown",
   "metadata": {},
   "source": [
    "**Definir diferentes colores para rangos establecidos de valores**\n",
    "\n",
    "Para facilitar la publicación y análisis de resultados, es conveniente establecer colores específicos (definir una paleta de colores) para ciertos rangos de valores que permitan distinguir aspectos puntuales de la cobertura estudiada. El código a continuación establece colores específicos para rangos definidos de valores del NDVI.\n",
    "\n",
    "Referencia: los colores empleados en al barra de colores fueron tomados de *[A repository of custom scripts that can be used with Sentinel-Hub services](https://custom-scripts.sentinel-hub.com/custom-scripts/sentinel-2/ndvi/)*"
   ]
  },
  {
   "cell_type": "code",
   "execution_count": null,
   "metadata": {},
   "outputs": [],
   "source": [
    "# Definición de colores para cada rango establecido en 'bounds'\n",
    "cmap = mpl.colors.ListedColormap(\n",
    "    [\n",
    "        '#000000', \n",
    "        '#a50026',\n",
    "        '#d73027',\n",
    "        '#f46d43',\n",
    "        '#fdae61',\n",
    "        '#fee08b',\n",
    "        '#ffffbf',\n",
    "        '#d9ef8b',\n",
    "        '#a6d96a',\n",
    "        '#66bd63',\n",
    "        '#1a9850',\n",
    "        '#006837'\n",
    "    ]\n",
    ")\n",
    "\n",
    "# Rangos de valores establecidos\n",
    "bounds = [-1.0, -0.2, 0.0, 0.1, 0.2, 0.3, 0.4, 0.5, 0.6, 0.7, 0.8, 0.9, 1.0]\n",
    "\n",
    "# Genera una capa de normalización de los datos basada en los intervalos establecidos en 'bounds'\n",
    "norm = mpl.colors.BoundaryNorm(bounds, cmap.N)\n",
    "\n",
    "# Mostrar la variable de datos NDVI, con la clasificación y la paleta de colores definida.\n",
    "masked_dataset.ndvi.plot(col='time',col_wrap=4,cmap=cmap,norm=norm)"
   ]
  },
  {
   "cell_type": "markdown",
   "metadata": {},
   "source": [
    "### Enhanced Vegetation Index (EVI)\n",
    "\n",
    "El índice EVI es similar al NDVI; sin embargo, corrige algunas condiciones atmosféricas y es más sensible en áreas con alta densidad de vegetación. La ecuación que describe el cálculo de este índice se muestra a continuación:\n",
    "\n",
    "`2 * ((NIR - RED) / (NIR + 6 * RED - 7.5 * BLUE + 10000))`"
   ]
  },
  {
   "cell_type": "markdown",
   "metadata": {},
   "source": [
    "> **TODO:**  Realice el mismo proceso de análisis del NDVI, pero en este caso para el cálculo del EVI. Utilice nuevas celdas para hacerlo"
   ]
  },
  {
   "cell_type": "markdown",
   "metadata": {},
   "source": [
    "## 4. Guardar resultados de análisis en formato netcdf\n",
    "___"
   ]
  },
  {
   "cell_type": "code",
   "execution_count": null,
   "metadata": {},
   "outputs": [],
   "source": [
    "# Selecciono el periodo de tiempo que deseo guardar\n",
    "time_index = 0\n",
    "dataset_to_save = masked_dataset.isel(time=time_index)\n",
    "\n",
    "# Selecciono la banda que deseo guardar\n",
    "ndvi = dataset_to_save.ndvi\n",
    "\n",
    "# Elimino la coordenada 'time' del dataset \n",
    "ndvi = ndvi.drop('time')\n",
    "ndvi"
   ]
  },
  {
   "cell_type": "markdown",
   "metadata": {},
   "source": [
    "Guardar resultados de análisis en un archivo .nc"
   ]
  },
  {
   "cell_type": "code",
   "execution_count": null,
   "metadata": {},
   "outputs": [],
   "source": [
    "ndvi.to_netcdf('Salidas/ndvi.nc')"
   ]
  },
  {
   "cell_type": "markdown",
   "metadata": {},
   "source": [
    "## 5. Guardar resultados de análisis en formato geotiff\n",
    "___"
   ]
  },
  {
   "cell_type": "markdown",
   "metadata": {},
   "source": [
    "Funciones requeridas para guardar información en geotiff"
   ]
  },
  {
   "cell_type": "code",
   "execution_count": null,
   "metadata": {},
   "outputs": [],
   "source": [
    "\"\"\"\n",
    "Las funciones mostradas a continuación fueron tomadas de \n",
    "https://github.com/ceos-seo/data_cube_notebooks\n",
    "\"\"\"\n",
    "\n",
    "def _get_transform_from_xr(data, x_coord='longitude', y_coord='latitude'):\n",
    "    \"\"\"Create a geotransform from an xarray.Dataset or xarray.DataArray.\n",
    "    \"\"\"\n",
    "\n",
    "    from rasterio.transform import from_bounds\n",
    "    geotransform = from_bounds(data[x_coord][0], data[y_coord][-1],\n",
    "                               data[x_coord][-1], data[y_coord][0],\n",
    "                               len(data[x_coord]), len(data[y_coord]))\n",
    "    return geotransform\n",
    "\n",
    "def write_geotiff_from_xr(tif_path, data, bands=None, no_data=-9999, crs=\"EPSG:4326\",\n",
    "                          x_coord='longitude', y_coord='latitude'):\n",
    "    \"\"\"\n",
    "    NOTE: Instead of this function, please use `import_export.export_xarray_to_geotiff()`.\n",
    "    Export a GeoTIFF from an `xarray.Dataset`.\n",
    "    Parameters\n",
    "    ----------\n",
    "    tif_path: string\n",
    "        The path to write the GeoTIFF file to. You should include the file extension.\n",
    "    data: xarray.Dataset or xarray.DataArray\n",
    "    bands: list of string\n",
    "        The bands to write - in the order they should be written.\n",
    "        Ignored if `data` is an `xarray.DataArray`.\n",
    "    no_data: int\n",
    "        The nodata value.\n",
    "    crs: string\n",
    "        The CRS of the output.\n",
    "    x_coord, y_coord: string\n",
    "        The string names of the x and y dimensions.\n",
    "    \"\"\"\n",
    "    if isinstance(data, xr.DataArray):\n",
    "        height, width = data.sizes[y_coord], data.sizes[x_coord]\n",
    "        count, dtype = 1, data.dtype\n",
    "    else:\n",
    "        if bands is None:\n",
    "            bands = list(data.data_vars.keys())\n",
    "        else:\n",
    "            assrt_msg_begin = \"The `data` parameter is an `xarray.Dataset`. \"\n",
    "            assert isinstance(bands, list), assrt_msg_begin + \"Bands must be a list of strings.\"\n",
    "            assert len(bands) > 0 and isinstance(bands[0], str), assrt_msg_begin + \"You must supply at least one band.\"\n",
    "        height, width = data.dims[y_coord], data.dims[x_coord]\n",
    "        count, dtype = len(bands), data[bands[0]].dtype\n",
    "    with rasterio.open(\n",
    "            tif_path,\n",
    "            'w',\n",
    "            driver='GTiff',\n",
    "            height=height,\n",
    "            width=width,\n",
    "            count=count,\n",
    "            dtype=dtype,\n",
    "            crs=crs,\n",
    "            transform=_get_transform_from_xr(data, x_coord=x_coord, y_coord=y_coord),\n",
    "            nodata=no_data) as dst:\n",
    "        if isinstance(data, xr.DataArray):\n",
    "            dst.write(data.values, 1)\n",
    "        else:\n",
    "            for index, band in enumerate(bands):\n",
    "                dst.write(data[band].values, index + 1)\n",
    "    dst.close()"
   ]
  },
  {
   "cell_type": "markdown",
   "metadata": {},
   "source": [
    "Guardar resultados de análisis en un archivo .tif"
   ]
  },
  {
   "cell_type": "code",
   "execution_count": null,
   "metadata": {},
   "outputs": [],
   "source": [
    "write_geotiff_from_xr(\n",
    "    tif_path='Salidas/ndvi.tif', \n",
    "    data=ndvi, \n",
    "    bands=['ndvi'], \n",
    "    no_data=-9999, \n",
    "    crs=\"EPSG:4326\",\n",
    "    x_coord='longitude',\n",
    "    y_coord='latitude'\n",
    ")"
   ]
  },
  {
   "cell_type": "markdown",
   "metadata": {},
   "source": [
    "**Ya puede visualizar y utilizar los resultados guardados en el SIG de su elección...**"
   ]
  }
 ],
 "metadata": {
  "kernelspec": {
   "display_name": "Python 3",
   "language": "python",
   "name": "python3"
  },
  "language_info": {
   "codemirror_mode": {
    "name": "ipython",
    "version": 3
   },
   "file_extension": ".py",
   "mimetype": "text/x-python",
   "name": "python",
   "nbconvert_exporter": "python",
   "pygments_lexer": "ipython3",
   "version": "3.8.5"
  }
 },
 "nbformat": 4,
 "nbformat_minor": 4
}
