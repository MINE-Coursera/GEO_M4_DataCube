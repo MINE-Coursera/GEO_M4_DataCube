{
 "cells": [
  {
   "cell_type": "markdown",
   "metadata": {},
   "source": [
    "<img src=\"img/banner.png\" alt=\"Deparatemento de Ingeniería de Sistemas y Computación, Universidad de los Andes\">"
   ]
  },
  {
   "cell_type": "markdown",
   "metadata": {},
   "source": [
    "# Adición de producto - Sentinel 2\n",
    "\n",
    "#### Introducción\n",
    "\n",
    "El objetivo del cubo de datos es proveer un ambiente integrado de análisis de datos de observación de la Tierra, provenientes de imágenes de satélite y otras fuentes.\n",
    "\n",
    "Recordemos que hay múltiples ofertas de imágenes de satélite y que según el problema y el área de estudio unas pueden ser más apropiadas que otras. De esta manera, una instancia del cubo de datos debe estar en capacidad de aceptar imágenes de cualquiera de las fuentes de imágenes satelitales. Para esto se define el concepto de **producto**, que consiste en la descripción de las **propiedades generales** (por ejemplo: las bandas espectrales) de las escenas producidas por el sensor remoto de interés. \n",
    "\n",
    "Cada sensor tiene propiedades diferentes a las de los demás y en consecuencia existe un `Archivo de Definición de Producto` específico para cada sensor, que por lo general es desarrollado por la comunidad y por el equipo que soporta el desarrollo del cubo de datos. En el siguiente [enlace](https://github.com/opendatacube/datacube-dataset-config/tree/master/config_samples/dataset_types) se encuentran ejemplos de archivos de definición de producto para sensores como Landsat, MODIS, DEM entre otros. \n",
    "\n",
    "Una vez que el cubo conoce el **producto** de un sensor específico, ya puede recibir todas las imágenes necesarias para el análisis esperado de ese sensor.\n",
    "\n",
    "**Objetivo**\n",
    "\n",
    "El objetivo de este notebook es hacer que el cubo que tenemos sea capaz de trabajar con imágenes de satélite provenientes del sensor  Sentinel 2. **Nota**: El archivo de definición de producto ya está cargado en este ambiente de desarrollo.\n",
    "\n",
    "**Contenido**\n",
    "\n",
    "1. Archivo de definición de producto para Sentinel 2.\n",
    "2. Adición de producto"
   ]
  },
  {
   "cell_type": "markdown",
   "metadata": {},
   "source": [
    "### 1. Archivo de definición de producto para Sentinel 2\n",
    "\n",
    "___\n",
    "\n",
    "El archivo de definición de producto para Sentinel 2 empleado en el presente notebook se muestra a continuación. Note que el archivo contiene **información general** como el nombre o identificador que se le asigna al producto (`name: s2_sen2cor_ard_granule_EO3`), información espectral o bandas (`measurements`).\n",
    "\n",
    "**Referencia:** Este archivo fue tomado de [aquí](https://github.com/dfnino10/ODC_Sentinel)"
   ]
  },
  {
   "cell_type": "code",
   "execution_count": 2,
   "metadata": {},
   "outputs": [
    {
     "name": "stdout",
     "output_type": "stream",
     "text": [
      "cat: /indexed_storage/S2_MSI_L2A/sen2cor_ard.yaml: No such file or directory\n"
     ]
    }
   ],
   "source": [
    "!cat /vagrant/indexed_storage/S2_MSI_L2A/sen2cor_ard.yaml"
   ]
  },
  {
   "cell_type": "markdown",
   "metadata": {},
   "source": [
    "### 2. Definición de Producto\n",
    "___\n",
    "\n",
    "Compruebe si ya hay productos definidos en el cubo de datos usando el comando que se muestra a continuación. Cuando no se han definido productos el siguiente comando no mostrará información."
   ]
  },
  {
   "cell_type": "code",
   "execution_count": null,
   "metadata": {},
   "outputs": [],
   "source": [
    "!datacube product list"
   ]
  },
  {
   "cell_type": "markdown",
   "metadata": {},
   "source": [
    "Utilice el **archivo de definición de producto** ubicado en `/vagrant/indexed_storage/S2_MSI_L2A/sen2cor_ard.yaml` para definir el producto Sentinel 2."
   ]
  },
  {
   "cell_type": "code",
   "execution_count": null,
   "metadata": {},
   "outputs": [],
   "source": [
    "!datacube product add /vagrant/indexed_storage/S2_MSI_L2A/sen2cor_ard.yaml"
   ]
  },
  {
   "cell_type": "markdown",
   "metadata": {},
   "source": [
    "Lista los **productos** definidos en el cubo de datos. Podrá observar que ya se ha definido el producto para Sentinel 2 cuyo identificador es `s2_sen2cor_ard_granule_EO3`, recuerde este identificador porque lo usaremos más adelante para consultar imágenes de este sensor."
   ]
  },
  {
   "cell_type": "code",
   "execution_count": null,
   "metadata": {},
   "outputs": [],
   "source": [
    "!datacube product list"
   ]
  },
  {
   "cell_type": "markdown",
   "metadata": {},
   "source": [
    "### Referencias\n",
    "\n",
    "1. [Open Data Cube Product](https://datacube-core.readthedocs.io/en/latest/architecture/data_model.html#product)"
   ]
  }
 ],
 "metadata": {
  "kernelspec": {
   "display_name": "Python 3",
   "language": "python",
   "name": "python3"
  },
  "language_info": {
   "codemirror_mode": {
    "name": "ipython",
    "version": 3
   },
   "file_extension": ".py",
   "mimetype": "text/x-python",
   "name": "python",
   "nbconvert_exporter": "python",
   "pygments_lexer": "ipython3",
   "version": "3.8.5"
  }
 },
 "nbformat": 4,
 "nbformat_minor": 4
}
