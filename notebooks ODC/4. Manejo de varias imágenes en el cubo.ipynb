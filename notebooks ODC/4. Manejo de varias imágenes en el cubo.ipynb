{
 "cells": [
  {
   "cell_type": "markdown",
   "metadata": {},
   "source": [
    "<img src=\"img/banner.png\" alt=\"Deparatemento de Ingeniería de Sistemas y Computación, Universidad de los Andes\">"
   ]
  },
  {
   "cell_type": "markdown",
   "metadata": {},
   "source": [
    "# Manejo de varias imágenes en el cubo\n",
    "\n",
    "**Objetivo**\n",
    "\n",
    "Este notebook es similar al anterior en el sentido que vamos a realizar las mismas operaciones, pero con dos imágenes.\n",
    "\n",
    "El objetivo es entender y manejar la dimensión del tiempo.\n",
    "\n",
    "**Precondiciones - Actividad previa**\n",
    "\n",
    "1. Tener definido el producto para Sentinel 2 - Ver notebook 1\n",
    "2. Haber realizado las actividades del notebook 3\n",
    "3. Tener dos imágenes en el cubo - Ver notebook 2 - **Es hora de indexar la segunda imagen**\n",
    "\n",
    "**Contenido**\n",
    "\n",
    "1. Importar librerías\n",
    "2. Especificación del área de estudio\n",
    "3. Búsqueda y visualización de imágenes en el Open Data Cube\n",
    "4. Exploración de la estructura de datos de varias imágenes en el cubo\n",
    "5. Visualización de las bandas individuales"
   ]
  },
  {
   "cell_type": "markdown",
   "metadata": {},
   "source": [
    "## 1. Importar librerías\n",
    "___\n",
    "En esta sección se importan las librerías cuya funcionalidades particulares son requeridas.\n",
    "\n",
    "**Nota**: Si le sale un error que dice que no reconoce geopandas es porque no ha ejecutado el notebook 3..."
   ]
  },
  {
   "cell_type": "code",
   "execution_count": null,
   "metadata": {},
   "outputs": [],
   "source": [
    "# las funcionalidades del open data cube son accedidas \n",
    "# por medio de la librería datacube\n",
    "import datacube\n",
    "\n",
    "# Librería usada para operaciones matemáticas\n",
    "import numpy as np\n",
    "\n",
    "# Librería usada para visualización de datos\n",
    "import matplotlib.pyplot as plt\n",
    "\n",
    "# Desactiva los warnings en el notebook\n",
    "import warnings\n",
    "warnings.filterwarnings('ignore')\n",
    "warnings.simplefilter('ignore')\n",
    "\n",
    "# Librería usada para la carga de polígonos\n",
    "import geopandas as gpd\n",
    "\n",
    "# Configuración de Drivers para leer polígonos en formato KML\n",
    "gpd.io.file.fiona.drvsupport.supported_drivers['KML'] = 'rw'"
   ]
  },
  {
   "cell_type": "markdown",
   "metadata": {},
   "source": [
    "## 2. Especificación del área de estudio\n",
    "___\n",
    "Para usar el cubo de datos y las imágenes que contiene, lo primero que hay que hacer es contarle al cubo cuál es el área en la que se quiere trabajar, expresada como un rectángulo que define sus límites.\n",
    "\n",
    "En este notebook, esta área de estudio se especifica a partir de un polígono (en formato .kml), del cual se encuentran sus límites y luego se expande."
   ]
  },
  {
   "cell_type": "code",
   "execution_count": null,
   "metadata": {},
   "outputs": [],
   "source": [
    "# Carga del archivo .kml y ponerlo en el sistema de coordenadas WGS 84 (EPSG 4326)\n",
    "df_polygon = gpd.read_file(\"polygon/tota_lake.kml\",driver='KML')\n",
    "df_polygon = df_polygon.to_crs('EPSG:4326')\n",
    "\n",
    "# Pintar el polígono del área de estudio\n",
    "fig, ax = plt.subplots(figsize=(10,10))\n",
    "df_polygon.boundary.plot(ax=ax,color='red')\n",
    "\n",
    "# Obtención de la geometría del polígono del GeoDataFrame\n",
    "geometry_predio = df_polygon['geometry'][0]\n",
    "\n",
    "# Obtención de los límites del cuadrado que enmarca el polígono\n",
    "minx, miny, maxx, maxy = geometry_predio.bounds\n",
    "\n",
    "# Aumento del aŕea del cuadrado para \"EPSG:4326\" (WGS84 - Unidades en grados)\n",
    "# 0.001 grados que corresponden a 111 metros alrededor del polígono que define el área de estudio\n",
    "buffer = 0.001\n",
    "\n",
    "# Variando el valor de esta variable, se puede tener en cuenta los alrededores del área de estudio. \n",
    "# Es claro que mientras más grande sea el área de estudio, más grande es el tiempo para procesarla\n",
    "\n",
    "minx = minx - buffer\n",
    "miny = miny - buffer\n",
    "maxx = maxx + buffer\n",
    "maxy = maxy + buffer\n",
    "\n",
    "# Definición de los límites de búsqueda\n",
    "study_area_lat = (miny,maxy)\n",
    "study_area_lon = (minx,maxx)\n",
    "\n",
    "print(f'    latitud= {study_area_lat},')\n",
    "print(f'    longitud={study_area_lon}')"
   ]
  },
  {
   "cell_type": "markdown",
   "metadata": {},
   "source": [
    "## 3. Búsqueda y visualización de imágenes en el Open Data Cube\n",
    "___\n",
    "El siguiente paso es encontrar entre todas las imágenes que tiene el cubo, aquellas que son de interés para el análisis que se quiere desarrollar. \n",
    "\n",
    "Es similar a lo desarrollado en el notebook 3, con la diferencia que ahora debemos obtener dos imágenes en la respuesta"
   ]
  },
  {
   "cell_type": "code",
   "execution_count": null,
   "metadata": {},
   "outputs": [],
   "source": [
    "dc = datacube.Datacube(app=\"MOOC GEO\")\n",
    "\n",
    "dataset = dc.load(\n",
    "    product=\"s2_sen2cor_ard_granule_EO3\",                   # El sensor - Sentinel 2\n",
    "    latitude=study_area_lat,                                # Los límites en latitud del área de estudio\n",
    "    longitude=study_area_lon,                               # Los límites en longitud del área de estudio\n",
    "    time=('2021-01-01', '2021-02-01'),                      # El período de tiempo de interés\n",
    "    measurements=[\"red\",\"blue\",\"green\",\"nir\",\"swir1\",\"swir2\",\"scl\"],  # Las bandas que se quieren estudiar\n",
    "    crs=\"EPSG:4326\",                                        # El sistema de coordenadas de entrada (WGS 84)\n",
    "    output_crs=\"EPSG:4326\",                                 # El sistema de coordenadas de la respuesta (WGS 84)\n",
    "    resolution=(-0.00008983111,0.00008971023)               # Precisión de la respuesta, en grados\n",
    ")\n",
    "\n",
    "# Dibujar la imagen en color verdadero (`true color`)\n",
    "rgb = dataset[[\"red\",\"green\",\"blue\"]].to_array(dim='color')\n",
    "rgb = rgb.transpose(*(rgb.dims[1:]+rgb.dims[:1]))  # make 'color' the last dimension\n",
    "\n",
    "# Como ya tenemos más de una imagen, debemos usar parámetros adicionales\n",
    "img = rgb.plot.imshow(col='time',                  # La dimensión que se va a tomar como referencia: el tiempo\n",
    "                      col_wrap=4,                  # Cuántas imágenes se dibujan por fila\n",
    "                      add_colorbar=False,          # Quitar la barra de colores\n",
    "                      vmin=0, vmax=1200,           # Rango de valores visibles\n",
    "                      size=10, aspect = 1)         # tamaño y proporción de la visualización\n",
    "\n",
    "# Con la siguiente instrucción, se muestra también el polígono que sirvió para determinar el área de estudio\n",
    "for axes in img.axes.flat:\n",
    "    df_polygon.boundary.plot(ax=axes,markersize=20,color='red',marker='o')\n",
    "plt.show()\n",
    "\n",
    "# Notamos que esta celda toma bastante tiempo para generar su resultado. Para mejorar el rendimiento se puede \n",
    "# quitar los parámetros size y aspect. \n"
   ]
  },
  {
   "cell_type": "markdown",
   "metadata": {},
   "source": [
    "> Ejercicio: Observe las modificaciones en los resultados y el tiempo para obtener la respuesta con las siuientes modificaciones: 1) cambiando el valor de la variable buffer en el paso 2; 2) cambiando el valor del parámetro size en el paso 3; 3) Quitando los paraámetros size y aspect en el paso 3."
   ]
  },
  {
   "cell_type": "markdown",
   "metadata": {},
   "source": [
    "Recordemos que también se puede visualizar las imágenes en *falso color*, con el objetivo de resaltar algunas características de la zona de estudio, no visibles al ojo humano.\n",
    "\n",
    "Una de las más utilizadas es el *falso color* para resaltar la vegetación, que visualiza la banda del nir (infrarojo cercano) en rojo, la banda del rojo en verde y la banda el verde en azul.\n",
    "\n",
    "\n",
    "Mayor información y otras combinaciones interesantes en:\n",
    "- https://acolita.com/lista-de-combinaciones-de-bandas-en-sentinel-2a/"
   ]
  },
  {
   "cell_type": "code",
   "execution_count": null,
   "metadata": {},
   "outputs": [],
   "source": [
    "rgb2 = dataset[[\"nir\",\"red\",\"green\"]].to_array(dim='color')\n",
    "rgb2 = rgb2.transpose(*(rgb2.dims[1:]+rgb2.dims[:1]))  # make 'color' the last dimension\n",
    "img2 = rgb2.plot.imshow(col = 'time', col_wrap=4, vmin=0, vmax=1200)"
   ]
  },
  {
   "cell_type": "markdown",
   "metadata": {},
   "source": [
    "## 4. Exploración de la estructura de datos de varias imágenes en el cubo\n",
    "___\n",
    "Al igual que en el notebook 3, miremos cómo es la respuesta ahora que tenemos dos imágenes."
   ]
  },
  {
   "cell_type": "code",
   "execution_count": null,
   "metadata": {
    "tags": []
   },
   "outputs": [],
   "source": [
    "# Para ver la imagen, en su estructura de datos, simplemente se le pide a Python que la escriba\n",
    "dataset"
   ]
  },
  {
   "cell_type": "markdown",
   "metadata": {},
   "source": [
    "Lo primero que encontramos es que la dimensión `time` tiena valor 2\n",
    "\n",
    "Lo siguiente que debemos observar, es que al mirar en detalle (con el ícono del disco) las variables de datos, tenemos como respuesta dos matrices, cada una correspondiendo con la banda de las dos imágenes que hacen parte de nuestro dataset.\n",
    "Como no siempre se quiere o es útil trabajar con toda la estructura de datos al tiempo, es posible extraer y trabajar con los elementos indivuduales.\n",
    "\n",
    "Las siguientes celdas muestran cómo hacerlo"
   ]
  },
  {
   "cell_type": "markdown",
   "metadata": {},
   "source": [
    "### Exploración de las dimensiones\n",
    "\n",
    "La propiedad `dims` permite visualizar las dimensiones del dataset."
   ]
  },
  {
   "cell_type": "code",
   "execution_count": null,
   "metadata": {},
   "outputs": [],
   "source": [
    "dataset.dims"
   ]
  },
  {
   "cell_type": "markdown",
   "metadata": {},
   "source": [
    "### Exploración de las coordenadas\n",
    "\n",
    "La propiedad `coords`permite visualizar las coordenadas. Las coordenadas pueden ser vistas como las etiquetas de los ejes de un cubo de tres dimensiones. En este caso, las coordenadas son `time`, `longitude`, `latitude`.\n",
    "\n",
    "Para la correcta interpretación está especificada el sistema de coordenadas 4326 - WGS 84"
   ]
  },
  {
   "cell_type": "code",
   "execution_count": null,
   "metadata": {},
   "outputs": [],
   "source": [
    "dataset.coords"
   ]
  },
  {
   "cell_type": "markdown",
   "metadata": {},
   "source": [
    "### Exploración de las fechas de las imágenes\n",
    "\n",
    "Para conocer de forma explícita las fechas en que fueron tomadas las imágenes resultado de la consulta. Recordemos que en este momento solo hay una imagen en el cubo"
   ]
  },
  {
   "cell_type": "code",
   "execution_count": null,
   "metadata": {},
   "outputs": [],
   "source": [
    "dataset.coords['time']"
   ]
  },
  {
   "cell_type": "markdown",
   "metadata": {},
   "source": [
    "### Exploración de las coordenadas de longitud\n",
    "\n",
    "Para conocer de forma explícita las coordendas de longitud"
   ]
  },
  {
   "cell_type": "code",
   "execution_count": null,
   "metadata": {},
   "outputs": [],
   "source": [
    "dataset.coords['longitude']"
   ]
  },
  {
   "cell_type": "markdown",
   "metadata": {},
   "source": [
    "### Exploración de las coordenadas de latitud\n",
    "\n",
    "Para conocer de forma explícita las coordendas de latitud"
   ]
  },
  {
   "cell_type": "code",
   "execution_count": null,
   "metadata": {},
   "outputs": [],
   "source": [
    "dataset.coords['latitude']"
   ]
  },
  {
   "cell_type": "markdown",
   "metadata": {},
   "source": [
    "### Exploración de las variables de datos"
   ]
  },
  {
   "cell_type": "markdown",
   "metadata": {},
   "source": [
    "La información espectral de una imagen satelital está organizada por el Open Data Cube en *variables de datos*. \n",
    "\n",
    "Cada variable de datos contiene la información de una única banda. \n",
    "\n",
    "La información de cada banda es organizada en un arreglo de tres dimensiones. "
   ]
  },
  {
   "cell_type": "markdown",
   "metadata": {},
   "source": [
    "Para acceder a la información espectral de la banda `blue` se puede usar la expresión mostrada a continuación."
   ]
  },
  {
   "cell_type": "code",
   "execution_count": null,
   "metadata": {},
   "outputs": [],
   "source": [
    "dataset.blue"
   ]
  },
  {
   "cell_type": "markdown",
   "metadata": {},
   "source": [
    "Dado que cada variable de datos es un arreglo de tres dimensiones, es posible indexar la información del mismo. Es importante conocer el orden de los ejes para determinar de antemano la información que se muestra al indexar una variable de datos."
   ]
  },
  {
   "cell_type": "markdown",
   "metadata": {
    "tags": []
   },
   "source": [
    "Por ejemplo, puedo obtener la segunda imagen en el tiempo para la banda `blue`. "
   ]
  },
  {
   "cell_type": "code",
   "execution_count": null,
   "metadata": {},
   "outputs": [],
   "source": [
    "dataset.blue[1]"
   ]
  },
  {
   "cell_type": "markdown",
   "metadata": {},
   "source": [
    "De la misma forma, se puede ver el valor para la banda `blue` de un único píxel. Los valores entre corchetes `[1,0,0]` se interpretan considerando el orden de las coordenadas. En este caso:\n",
    "\n",
    "* la primera coordenada es el tiempo (`time`) de modo que en la matrix se ha seleccionado el periodo de tiempo `1`. \n",
    "* la segunda coodenada es la latitud (`latitude`) de modo que en la matrix se ha seleccionado la latitud `0`\n",
    "* la tercera coordenada es la longitud (`longitude`) así, la longitud seleccionada es `0`"
   ]
  },
  {
   "cell_type": "code",
   "execution_count": null,
   "metadata": {},
   "outputs": [],
   "source": [
    "dataset.blue[1,0,0]"
   ]
  },
  {
   "cell_type": "markdown",
   "metadata": {},
   "source": [
    "### Exploración de atributos"
   ]
  },
  {
   "cell_type": "markdown",
   "metadata": {},
   "source": [
    "Entre los atributos que hacen parte de los metadatos de la imagen, se muestra el sistema de referencia de coordenadas (CRS) de la imagen obtenida a partir del Open Data Cube. Una de las bondades del Open Data Cube es que permite obtener la información de las imágenes en diferentes sistemas de coordendas y en diferentes dimensiones."
   ]
  },
  {
   "cell_type": "code",
   "execution_count": null,
   "metadata": {},
   "outputs": [],
   "source": [
    "dataset.crs"
   ]
  },
  {
   "cell_type": "markdown",
   "metadata": {},
   "source": [
    "## 5. Visualización de las bandas individuales\n",
    "___\n",
    "Para visualizar una banda particular se utiliza el comando `plot` a la variable de datos deseada, utilizando la paleta de colores por defecto."
   ]
  },
  {
   "cell_type": "code",
   "execution_count": null,
   "metadata": {},
   "outputs": [],
   "source": [
    "dataset.blue.plot(col='time', vmin=0,vmax=1200)"
   ]
  },
  {
   "cell_type": "markdown",
   "metadata": {},
   "source": [
    "Para cambiar el rango de colores de la visualización mostrada se usa el parámetro `cmap` que indica la paleta de colores que se quiere utilizar.\n",
    "\n",
    "El listado de paletas de colores válids está [aquí](https://matplotlib.org/stable/tutorials/colors/colormaps.html)"
   ]
  },
  {
   "cell_type": "code",
   "execution_count": null,
   "metadata": {},
   "outputs": [],
   "source": [
    "dataset.blue.plot(col='time', vmin=0,vmax=1200, cmap='Blues')"
   ]
  },
  {
   "cell_type": "code",
   "execution_count": null,
   "metadata": {},
   "outputs": [],
   "source": [
    "dataset.red.plot(col='time', cmap='Reds',vmin=0,vmax=1200)"
   ]
  },
  {
   "cell_type": "markdown",
   "metadata": {},
   "source": [
    "> **Ejercicio:**  Realice el proceso de **Visualización** para las variables (bandas) restantes `green`,`nir`,`swir1`,`swir2` y `scl`. Cree una nueva celda para cada ejemplo. Puede apoyarse en el ejemplo de exploración de la banda `blue` mostrado anteriormente. Use los colores `'Greens'` para la banda `green`; para las demás bandas no cambie los colores."
   ]
  }
 ],
 "metadata": {
  "kernelspec": {
   "display_name": "Python 3",
   "language": "python",
   "name": "python3"
  },
  "language_info": {
   "codemirror_mode": {
    "name": "ipython",
    "version": 3
   },
   "file_extension": ".py",
   "mimetype": "text/x-python",
   "name": "python",
   "nbconvert_exporter": "python",
   "pygments_lexer": "ipython3",
   "version": "3.8.5"
  }
 },
 "nbformat": 4,
 "nbformat_minor": 4
}
